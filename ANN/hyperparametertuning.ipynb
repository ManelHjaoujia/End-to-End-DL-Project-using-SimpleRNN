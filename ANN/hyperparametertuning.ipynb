{
 "cells": [
  {
   "cell_type": "code",
   "id": "initial_id",
   "metadata": {
    "collapsed": true,
    "ExecuteTime": {
     "end_time": "2025-10-16T16:41:18.005188Z",
     "start_time": "2025-10-16T16:41:11.277620Z"
    }
   },
   "source": [
    "import pandas as pd\n",
    "from sklearn.model_selection import train_test_split, GridSearchCV\n",
    "from sklearn.preprocessing import StandardScaler, LabelEncoder, OneHotEncoder\n",
    "from sklearn.pipeline import Pipeline\n",
    "from scikeras.wrappers import KerasClassifier\n",
    "import tensorflow as tf\n",
    "from tensorflow.keras.models import Sequential\n",
    "from tensorflow.keras.layers import Dense\n",
    "from tensorflow.keras.callbacks import EarlyStopping\n",
    "import pickle"
   ],
   "outputs": [],
   "execution_count": 1
  },
  {
   "metadata": {
    "ExecuteTime": {
     "end_time": "2025-10-16T16:46:34.056685Z",
     "start_time": "2025-10-16T16:46:34.014066Z"
    }
   },
   "cell_type": "code",
   "source": [
    "data = pd.read_csv(\"Churn_Modelling.csv\")\n",
    "data= data.drop(['RowNumber','CustomerId','Surname'],axis=1)\n"
   ],
   "id": "7c449035009cee5d",
   "outputs": [],
   "execution_count": 2
  },
  {
   "metadata": {
    "ExecuteTime": {
     "end_time": "2025-10-16T16:53:49.234563Z",
     "start_time": "2025-10-16T16:53:49.182835Z"
    }
   },
   "cell_type": "code",
   "source": [
    "# Encode categorical variables\n",
    "label_encoder_gender = LabelEncoder()\n",
    "data['Gender'] = label_encoder_gender.fit_transform(data['Gender'])\n",
    "\n",
    "# OneHotEncoder 'Geography'\n",
    "one_hot_encoder = OneHotEncoder()\n",
    "geo_encoder = one_hot_encoder.fit_transform(data[['Geography']]).toarray()\n",
    "\n",
    "geo_encoded_df = pd.DataFrame(geo_encoder, columns=one_hot_encoder.get_feature_names_out(['Geography']))\n",
    "\n",
    "data = pd.concat([data.drop('Geography', axis=1), geo_encoded_df], axis=1)\n",
    "data.head()\n",
    "\n",
    "X = data.drop('Exited', axis=1)\n",
    "y = data['Exited']\n",
    "\n",
    "\n",
    "X_train, X_test, y_train, y_test = train_test_split(X, y, test_size=0.2, random_state=42)\n",
    "\n",
    "scaler = StandardScaler()\n",
    "X_train = scaler.fit_transform(X_train)\n",
    "X_test = scaler.transform(X_test)\n",
    "\n",
    "# Save the encoders and scaler\n",
    "with open('label_encoder_gender.pkl', 'wb') as file:\n",
    "    pickle.dump(label_encoder_gender, file)\n",
    "\n",
    "with open('one_hot_encoder.pkl', 'wb') as file:\n",
    "    pickle.dump(one_hot_encoder, file)\n",
    "\n",
    "with open('scaler.pkl', 'wb') as file:\n",
    "    pickle.dump(scaler, file)"
   ],
   "id": "aa3439aa7194a405",
   "outputs": [],
   "execution_count": 3
  },
  {
   "metadata": {
    "ExecuteTime": {
     "end_time": "2025-10-16T17:12:13.377117Z",
     "start_time": "2025-10-16T17:12:13.366704Z"
    }
   },
   "cell_type": "code",
   "source": [
    "# Define a function to create the model and try different parameters(KerasClassifier)\n",
    "\n",
    "def create_model(neurons=32,layers=1):\n",
    "    model=Sequential()\n",
    "    model.add(Dense(neurons, activation='relu', input_shape=(X_train.shape[1],)))\n",
    "    for _ in range(layers-1):\n",
    "        model.add(Dense(neurons, activation='relu'))\n",
    "    model.add(Dense(1, activation='sigmoid'))\n",
    "    model.compile(optimizer='adam', loss='binary_crossentropy', metrics=['accuracy'])\n",
    "    return model"
   ],
   "id": "6af8d75841a91bc",
   "outputs": [],
   "execution_count": 15
  },
  {
   "metadata": {
    "ExecuteTime": {
     "end_time": "2025-10-16T17:12:15.076107Z",
     "start_time": "2025-10-16T17:12:15.069504Z"
    }
   },
   "cell_type": "code",
   "source": [
    "# Create a Keras classifier\n",
    "model=KerasClassifier(build_fn=create_model,epochs=10,batch_size=10,verbose=1)"
   ],
   "id": "63bbe2a1bd96c467",
   "outputs": [],
   "execution_count": 16
  },
  {
   "metadata": {
    "ExecuteTime": {
     "end_time": "2025-10-16T17:12:58.993383Z",
     "start_time": "2025-10-16T17:12:58.983459Z"
    }
   },
   "cell_type": "code",
   "source": [
    "# Define the grid search parameters\n",
    "param_grid={\n",
    "    'model__neurons':[16,32,64,128],\n",
    "    'model__layers':[1,2,3],\n",
    "    'epochs':[50,100]\n",
    "}"
   ],
   "id": "d6ee473b10679b93",
   "outputs": [],
   "execution_count": 19
  },
  {
   "metadata": {
    "ExecuteTime": {
     "end_time": "2025-10-16T18:27:10.476736Z",
     "start_time": "2025-10-16T17:13:00.364459Z"
    }
   },
   "cell_type": "code",
   "source": [
    "# Perform grid search\n",
    "grid = GridSearchCV(estimator=model, param_grid=param_grid, n_jobs=-1,cv=3)\n",
    "grid_result=grid.fit(X_train, y_train)"
   ],
   "id": "d596f53beadae89e",
   "outputs": [
    {
     "name": "stderr",
     "output_type": "stream",
     "text": [
      "C:\\Users\\LENOVO_PC\\Desktop\\DS_projects\\ANN Classification\\venv\\Lib\\site-packages\\scikeras\\wrappers.py:925: UserWarning: ``build_fn`` will be renamed to ``model`` in a future release, at which point use of ``build_fn`` will raise an Error instead.\n",
      "  X, y = self._initialize(X, y)\n",
      "C:\\Users\\LENOVO_PC\\Desktop\\DS_projects\\ANN Classification\\venv\\Lib\\site-packages\\keras\\src\\layers\\core\\dense.py:92: UserWarning: Do not pass an `input_shape`/`input_dim` argument to a layer. When using Sequential models, prefer using an `Input(shape)` object as the first layer in the model instead.\n",
      "  super().__init__(activity_regularizer=activity_regularizer, **kwargs)\n"
     ]
    },
    {
     "name": "stdout",
     "output_type": "stream",
     "text": [
      "Epoch 1/100\n",
      "\u001B[1m800/800\u001B[0m \u001B[32m━━━━━━━━━━━━━━━━━━━━\u001B[0m\u001B[37m\u001B[0m \u001B[1m3s\u001B[0m 3ms/step - accuracy: 0.7911 - loss: 0.4798\n",
      "Epoch 2/100\n",
      "\u001B[1m800/800\u001B[0m \u001B[32m━━━━━━━━━━━━━━━━━━━━\u001B[0m\u001B[37m\u001B[0m \u001B[1m3s\u001B[0m 3ms/step - accuracy: 0.8175 - loss: 0.4266\n",
      "Epoch 3/100\n",
      "\u001B[1m800/800\u001B[0m \u001B[32m━━━━━━━━━━━━━━━━━━━━\u001B[0m\u001B[37m\u001B[0m \u001B[1m2s\u001B[0m 3ms/step - accuracy: 0.8286 - loss: 0.4065\n",
      "Epoch 4/100\n",
      "\u001B[1m800/800\u001B[0m \u001B[32m━━━━━━━━━━━━━━━━━━━━\u001B[0m\u001B[37m\u001B[0m \u001B[1m2s\u001B[0m 3ms/step - accuracy: 0.8418 - loss: 0.3859\n",
      "Epoch 5/100\n",
      "\u001B[1m800/800\u001B[0m \u001B[32m━━━━━━━━━━━━━━━━━━━━\u001B[0m\u001B[37m\u001B[0m \u001B[1m3s\u001B[0m 3ms/step - accuracy: 0.8508 - loss: 0.3692\n",
      "Epoch 6/100\n",
      "\u001B[1m800/800\u001B[0m \u001B[32m━━━━━━━━━━━━━━━━━━━━\u001B[0m\u001B[37m\u001B[0m \u001B[1m2s\u001B[0m 3ms/step - accuracy: 0.8541 - loss: 0.3583\n",
      "Epoch 7/100\n",
      "\u001B[1m800/800\u001B[0m \u001B[32m━━━━━━━━━━━━━━━━━━━━\u001B[0m\u001B[37m\u001B[0m \u001B[1m2s\u001B[0m 3ms/step - accuracy: 0.8555 - loss: 0.3531\n",
      "Epoch 8/100\n",
      "\u001B[1m800/800\u001B[0m \u001B[32m━━━━━━━━━━━━━━━━━━━━\u001B[0m\u001B[37m\u001B[0m \u001B[1m2s\u001B[0m 3ms/step - accuracy: 0.8584 - loss: 0.3496\n",
      "Epoch 9/100\n",
      "\u001B[1m800/800\u001B[0m \u001B[32m━━━━━━━━━━━━━━━━━━━━\u001B[0m\u001B[37m\u001B[0m \u001B[1m2s\u001B[0m 3ms/step - accuracy: 0.8571 - loss: 0.3473\n",
      "Epoch 10/100\n",
      "\u001B[1m800/800\u001B[0m \u001B[32m━━━━━━━━━━━━━━━━━━━━\u001B[0m\u001B[37m\u001B[0m \u001B[1m2s\u001B[0m 3ms/step - accuracy: 0.8581 - loss: 0.3457\n",
      "Epoch 11/100\n",
      "\u001B[1m800/800\u001B[0m \u001B[32m━━━━━━━━━━━━━━━━━━━━\u001B[0m\u001B[37m\u001B[0m \u001B[1m3s\u001B[0m 3ms/step - accuracy: 0.8611 - loss: 0.3447\n",
      "Epoch 12/100\n",
      "\u001B[1m800/800\u001B[0m \u001B[32m━━━━━━━━━━━━━━━━━━━━\u001B[0m\u001B[37m\u001B[0m \u001B[1m3s\u001B[0m 3ms/step - accuracy: 0.8580 - loss: 0.3443\n",
      "Epoch 13/100\n",
      "\u001B[1m800/800\u001B[0m \u001B[32m━━━━━━━━━━━━━━━━━━━━\u001B[0m\u001B[37m\u001B[0m \u001B[1m2s\u001B[0m 3ms/step - accuracy: 0.8614 - loss: 0.3435\n",
      "Epoch 14/100\n",
      "\u001B[1m800/800\u001B[0m \u001B[32m━━━━━━━━━━━━━━━━━━━━\u001B[0m\u001B[37m\u001B[0m \u001B[1m2s\u001B[0m 3ms/step - accuracy: 0.8611 - loss: 0.3426\n",
      "Epoch 15/100\n",
      "\u001B[1m800/800\u001B[0m \u001B[32m━━━━━━━━━━━━━━━━━━━━\u001B[0m\u001B[37m\u001B[0m \u001B[1m3s\u001B[0m 3ms/step - accuracy: 0.8608 - loss: 0.3410\n",
      "Epoch 16/100\n",
      "\u001B[1m800/800\u001B[0m \u001B[32m━━━━━━━━━━━━━━━━━━━━\u001B[0m\u001B[37m\u001B[0m \u001B[1m3s\u001B[0m 3ms/step - accuracy: 0.8612 - loss: 0.3413\n",
      "Epoch 17/100\n",
      "\u001B[1m800/800\u001B[0m \u001B[32m━━━━━━━━━━━━━━━━━━━━\u001B[0m\u001B[37m\u001B[0m \u001B[1m5s\u001B[0m 3ms/step - accuracy: 0.8602 - loss: 0.3407\n",
      "Epoch 18/100\n",
      "\u001B[1m800/800\u001B[0m \u001B[32m━━━━━━━━━━━━━━━━━━━━\u001B[0m\u001B[37m\u001B[0m \u001B[1m3s\u001B[0m 3ms/step - accuracy: 0.8609 - loss: 0.3400\n",
      "Epoch 19/100\n",
      "\u001B[1m800/800\u001B[0m \u001B[32m━━━━━━━━━━━━━━━━━━━━\u001B[0m\u001B[37m\u001B[0m \u001B[1m2s\u001B[0m 3ms/step - accuracy: 0.8604 - loss: 0.3397\n",
      "Epoch 20/100\n",
      "\u001B[1m800/800\u001B[0m \u001B[32m━━━━━━━━━━━━━━━━━━━━\u001B[0m\u001B[37m\u001B[0m \u001B[1m2s\u001B[0m 3ms/step - accuracy: 0.8622 - loss: 0.3394\n",
      "Epoch 21/100\n",
      "\u001B[1m800/800\u001B[0m \u001B[32m━━━━━━━━━━━━━━━━━━━━\u001B[0m\u001B[37m\u001B[0m \u001B[1m2s\u001B[0m 3ms/step - accuracy: 0.8625 - loss: 0.3382\n",
      "Epoch 22/100\n",
      "\u001B[1m800/800\u001B[0m \u001B[32m━━━━━━━━━━━━━━━━━━━━\u001B[0m\u001B[37m\u001B[0m \u001B[1m2s\u001B[0m 3ms/step - accuracy: 0.8621 - loss: 0.3388\n",
      "Epoch 23/100\n",
      "\u001B[1m800/800\u001B[0m \u001B[32m━━━━━━━━━━━━━━━━━━━━\u001B[0m\u001B[37m\u001B[0m \u001B[1m2s\u001B[0m 3ms/step - accuracy: 0.8601 - loss: 0.3381\n",
      "Epoch 24/100\n",
      "\u001B[1m800/800\u001B[0m \u001B[32m━━━━━━━━━━━━━━━━━━━━\u001B[0m\u001B[37m\u001B[0m \u001B[1m2s\u001B[0m 3ms/step - accuracy: 0.8627 - loss: 0.3379\n",
      "Epoch 25/100\n",
      "\u001B[1m800/800\u001B[0m \u001B[32m━━━━━━━━━━━━━━━━━━━━\u001B[0m\u001B[37m\u001B[0m \u001B[1m2s\u001B[0m 3ms/step - accuracy: 0.8606 - loss: 0.3376\n",
      "Epoch 26/100\n",
      "\u001B[1m800/800\u001B[0m \u001B[32m━━━━━━━━━━━━━━━━━━━━\u001B[0m\u001B[37m\u001B[0m \u001B[1m3s\u001B[0m 4ms/step - accuracy: 0.8624 - loss: 0.3369\n",
      "Epoch 27/100\n",
      "\u001B[1m800/800\u001B[0m \u001B[32m━━━━━━━━━━━━━━━━━━━━\u001B[0m\u001B[37m\u001B[0m \u001B[1m6s\u001B[0m 4ms/step - accuracy: 0.8637 - loss: 0.3360\n",
      "Epoch 28/100\n",
      "\u001B[1m800/800\u001B[0m \u001B[32m━━━━━━━━━━━━━━━━━━━━\u001B[0m\u001B[37m\u001B[0m \u001B[1m3s\u001B[0m 4ms/step - accuracy: 0.8619 - loss: 0.3365\n",
      "Epoch 29/100\n",
      "\u001B[1m800/800\u001B[0m \u001B[32m━━━━━━━━━━━━━━━━━━━━\u001B[0m\u001B[37m\u001B[0m \u001B[1m5s\u001B[0m 3ms/step - accuracy: 0.8624 - loss: 0.3361\n",
      "Epoch 30/100\n",
      "\u001B[1m800/800\u001B[0m \u001B[32m━━━━━━━━━━━━━━━━━━━━\u001B[0m\u001B[37m\u001B[0m \u001B[1m2s\u001B[0m 3ms/step - accuracy: 0.8631 - loss: 0.3351\n",
      "Epoch 31/100\n",
      "\u001B[1m800/800\u001B[0m \u001B[32m━━━━━━━━━━━━━━━━━━━━\u001B[0m\u001B[37m\u001B[0m \u001B[1m2s\u001B[0m 3ms/step - accuracy: 0.8618 - loss: 0.3357\n",
      "Epoch 32/100\n",
      "\u001B[1m800/800\u001B[0m \u001B[32m━━━━━━━━━━━━━━━━━━━━\u001B[0m\u001B[37m\u001B[0m \u001B[1m2s\u001B[0m 3ms/step - accuracy: 0.8624 - loss: 0.3352\n",
      "Epoch 33/100\n",
      "\u001B[1m800/800\u001B[0m \u001B[32m━━━━━━━━━━━━━━━━━━━━\u001B[0m\u001B[37m\u001B[0m \u001B[1m2s\u001B[0m 3ms/step - accuracy: 0.8620 - loss: 0.3351\n",
      "Epoch 34/100\n",
      "\u001B[1m800/800\u001B[0m \u001B[32m━━━━━━━━━━━━━━━━━━━━\u001B[0m\u001B[37m\u001B[0m \u001B[1m2s\u001B[0m 3ms/step - accuracy: 0.8641 - loss: 0.3343\n",
      "Epoch 35/100\n",
      "\u001B[1m800/800\u001B[0m \u001B[32m━━━━━━━━━━━━━━━━━━━━\u001B[0m\u001B[37m\u001B[0m \u001B[1m2s\u001B[0m 3ms/step - accuracy: 0.8635 - loss: 0.3349\n",
      "Epoch 36/100\n",
      "\u001B[1m800/800\u001B[0m \u001B[32m━━━━━━━━━━━━━━━━━━━━\u001B[0m\u001B[37m\u001B[0m \u001B[1m2s\u001B[0m 3ms/step - accuracy: 0.8649 - loss: 0.3343\n",
      "Epoch 37/100\n",
      "\u001B[1m800/800\u001B[0m \u001B[32m━━━━━━━━━━━━━━━━━━━━\u001B[0m\u001B[37m\u001B[0m \u001B[1m2s\u001B[0m 3ms/step - accuracy: 0.8625 - loss: 0.3343\n",
      "Epoch 38/100\n",
      "\u001B[1m800/800\u001B[0m \u001B[32m━━━━━━━━━━━━━━━━━━━━\u001B[0m\u001B[37m\u001B[0m \u001B[1m2s\u001B[0m 3ms/step - accuracy: 0.8620 - loss: 0.3345\n",
      "Epoch 39/100\n",
      "\u001B[1m800/800\u001B[0m \u001B[32m━━━━━━━━━━━━━━━━━━━━\u001B[0m\u001B[37m\u001B[0m \u001B[1m3s\u001B[0m 3ms/step - accuracy: 0.8633 - loss: 0.3338\n",
      "Epoch 40/100\n",
      "\u001B[1m800/800\u001B[0m \u001B[32m━━━━━━━━━━━━━━━━━━━━\u001B[0m\u001B[37m\u001B[0m \u001B[1m2s\u001B[0m 3ms/step - accuracy: 0.8636 - loss: 0.3337\n",
      "Epoch 41/100\n",
      "\u001B[1m800/800\u001B[0m \u001B[32m━━━━━━━━━━━━━━━━━━━━\u001B[0m\u001B[37m\u001B[0m \u001B[1m2s\u001B[0m 3ms/step - accuracy: 0.8658 - loss: 0.3336\n",
      "Epoch 42/100\n",
      "\u001B[1m800/800\u001B[0m \u001B[32m━━━━━━━━━━━━━━━━━━━━\u001B[0m\u001B[37m\u001B[0m \u001B[1m2s\u001B[0m 3ms/step - accuracy: 0.8630 - loss: 0.3330\n",
      "Epoch 43/100\n",
      "\u001B[1m800/800\u001B[0m \u001B[32m━━━━━━━━━━━━━━━━━━━━\u001B[0m\u001B[37m\u001B[0m \u001B[1m3s\u001B[0m 4ms/step - accuracy: 0.8625 - loss: 0.3331\n",
      "Epoch 44/100\n",
      "\u001B[1m800/800\u001B[0m \u001B[32m━━━━━━━━━━━━━━━━━━━━\u001B[0m\u001B[37m\u001B[0m \u001B[1m4s\u001B[0m 3ms/step - accuracy: 0.8634 - loss: 0.3329\n",
      "Epoch 45/100\n",
      "\u001B[1m800/800\u001B[0m \u001B[32m━━━━━━━━━━━━━━━━━━━━\u001B[0m\u001B[37m\u001B[0m \u001B[1m2s\u001B[0m 3ms/step - accuracy: 0.8634 - loss: 0.3326\n",
      "Epoch 46/100\n",
      "\u001B[1m800/800\u001B[0m \u001B[32m━━━━━━━━━━━━━━━━━━━━\u001B[0m\u001B[37m\u001B[0m \u001B[1m2s\u001B[0m 3ms/step - accuracy: 0.8630 - loss: 0.3327\n",
      "Epoch 47/100\n",
      "\u001B[1m800/800\u001B[0m \u001B[32m━━━━━━━━━━━━━━━━━━━━\u001B[0m\u001B[37m\u001B[0m \u001B[1m2s\u001B[0m 3ms/step - accuracy: 0.8624 - loss: 0.3326\n",
      "Epoch 48/100\n",
      "\u001B[1m800/800\u001B[0m \u001B[32m━━━━━━━━━━━━━━━━━━━━\u001B[0m\u001B[37m\u001B[0m \u001B[1m3s\u001B[0m 3ms/step - accuracy: 0.8633 - loss: 0.3324\n",
      "Epoch 49/100\n",
      "\u001B[1m800/800\u001B[0m \u001B[32m━━━━━━━━━━━━━━━━━━━━\u001B[0m\u001B[37m\u001B[0m \u001B[1m2s\u001B[0m 3ms/step - accuracy: 0.8630 - loss: 0.3323\n",
      "Epoch 50/100\n",
      "\u001B[1m800/800\u001B[0m \u001B[32m━━━━━━━━━━━━━━━━━━━━\u001B[0m\u001B[37m\u001B[0m \u001B[1m3s\u001B[0m 3ms/step - accuracy: 0.8639 - loss: 0.3319\n",
      "Epoch 51/100\n",
      "\u001B[1m800/800\u001B[0m \u001B[32m━━━━━━━━━━━━━━━━━━━━\u001B[0m\u001B[37m\u001B[0m \u001B[1m3s\u001B[0m 3ms/step - accuracy: 0.8627 - loss: 0.3324\n",
      "Epoch 52/100\n",
      "\u001B[1m800/800\u001B[0m \u001B[32m━━━━━━━━━━━━━━━━━━━━\u001B[0m\u001B[37m\u001B[0m \u001B[1m2s\u001B[0m 3ms/step - accuracy: 0.8631 - loss: 0.3320\n",
      "Epoch 53/100\n",
      "\u001B[1m800/800\u001B[0m \u001B[32m━━━━━━━━━━━━━━━━━━━━\u001B[0m\u001B[37m\u001B[0m \u001B[1m2s\u001B[0m 3ms/step - accuracy: 0.8631 - loss: 0.3322\n",
      "Epoch 54/100\n",
      "\u001B[1m800/800\u001B[0m \u001B[32m━━━━━━━━━━━━━━━━━━━━\u001B[0m\u001B[37m\u001B[0m \u001B[1m2s\u001B[0m 3ms/step - accuracy: 0.8636 - loss: 0.3310\n",
      "Epoch 55/100\n",
      "\u001B[1m800/800\u001B[0m \u001B[32m━━━━━━━━━━━━━━━━━━━━\u001B[0m\u001B[37m\u001B[0m \u001B[1m2s\u001B[0m 3ms/step - accuracy: 0.8640 - loss: 0.3319\n",
      "Epoch 56/100\n",
      "\u001B[1m800/800\u001B[0m \u001B[32m━━━━━━━━━━━━━━━━━━━━\u001B[0m\u001B[37m\u001B[0m \u001B[1m3s\u001B[0m 3ms/step - accuracy: 0.8624 - loss: 0.3316\n",
      "Epoch 57/100\n",
      "\u001B[1m800/800\u001B[0m \u001B[32m━━━━━━━━━━━━━━━━━━━━\u001B[0m\u001B[37m\u001B[0m \u001B[1m5s\u001B[0m 3ms/step - accuracy: 0.8625 - loss: 0.3315\n",
      "Epoch 58/100\n",
      "\u001B[1m800/800\u001B[0m \u001B[32m━━━━━━━━━━━━━━━━━━━━\u001B[0m\u001B[37m\u001B[0m \u001B[1m2s\u001B[0m 3ms/step - accuracy: 0.8635 - loss: 0.3313\n",
      "Epoch 59/100\n",
      "\u001B[1m800/800\u001B[0m \u001B[32m━━━━━━━━━━━━━━━━━━━━\u001B[0m\u001B[37m\u001B[0m \u001B[1m2s\u001B[0m 3ms/step - accuracy: 0.8636 - loss: 0.3309\n",
      "Epoch 60/100\n",
      "\u001B[1m800/800\u001B[0m \u001B[32m━━━━━━━━━━━━━━━━━━━━\u001B[0m\u001B[37m\u001B[0m \u001B[1m3s\u001B[0m 3ms/step - accuracy: 0.8631 - loss: 0.3308\n",
      "Epoch 61/100\n",
      "\u001B[1m800/800\u001B[0m \u001B[32m━━━━━━━━━━━━━━━━━━━━\u001B[0m\u001B[37m\u001B[0m \u001B[1m2s\u001B[0m 3ms/step - accuracy: 0.8641 - loss: 0.3310\n",
      "Epoch 62/100\n",
      "\u001B[1m800/800\u001B[0m \u001B[32m━━━━━━━━━━━━━━━━━━━━\u001B[0m\u001B[37m\u001B[0m \u001B[1m2s\u001B[0m 3ms/step - accuracy: 0.8650 - loss: 0.3302\n",
      "Epoch 63/100\n",
      "\u001B[1m800/800\u001B[0m \u001B[32m━━━━━━━━━━━━━━━━━━━━\u001B[0m\u001B[37m\u001B[0m \u001B[1m2s\u001B[0m 3ms/step - accuracy: 0.8634 - loss: 0.3307\n",
      "Epoch 64/100\n",
      "\u001B[1m800/800\u001B[0m \u001B[32m━━━━━━━━━━━━━━━━━━━━\u001B[0m\u001B[37m\u001B[0m \u001B[1m2s\u001B[0m 3ms/step - accuracy: 0.8636 - loss: 0.3304\n",
      "Epoch 65/100\n",
      "\u001B[1m800/800\u001B[0m \u001B[32m━━━━━━━━━━━━━━━━━━━━\u001B[0m\u001B[37m\u001B[0m \u001B[1m2s\u001B[0m 3ms/step - accuracy: 0.8648 - loss: 0.3297\n",
      "Epoch 66/100\n",
      "\u001B[1m800/800\u001B[0m \u001B[32m━━━━━━━━━━━━━━━━━━━━\u001B[0m\u001B[37m\u001B[0m \u001B[1m3s\u001B[0m 3ms/step - accuracy: 0.8633 - loss: 0.3298\n",
      "Epoch 67/100\n",
      "\u001B[1m800/800\u001B[0m \u001B[32m━━━━━━━━━━━━━━━━━━━━\u001B[0m\u001B[37m\u001B[0m \u001B[1m3s\u001B[0m 3ms/step - accuracy: 0.8648 - loss: 0.3300\n",
      "Epoch 68/100\n",
      "\u001B[1m800/800\u001B[0m \u001B[32m━━━━━━━━━━━━━━━━━━━━\u001B[0m\u001B[37m\u001B[0m \u001B[1m2s\u001B[0m 3ms/step - accuracy: 0.8634 - loss: 0.3294\n",
      "Epoch 69/100\n",
      "\u001B[1m800/800\u001B[0m \u001B[32m━━━━━━━━━━━━━━━━━━━━\u001B[0m\u001B[37m\u001B[0m \u001B[1m2s\u001B[0m 3ms/step - accuracy: 0.8659 - loss: 0.3301\n",
      "Epoch 70/100\n",
      "\u001B[1m800/800\u001B[0m \u001B[32m━━━━━━━━━━━━━━━━━━━━\u001B[0m\u001B[37m\u001B[0m \u001B[1m3s\u001B[0m 3ms/step - accuracy: 0.8635 - loss: 0.3298\n",
      "Epoch 71/100\n",
      "\u001B[1m800/800\u001B[0m \u001B[32m━━━━━━━━━━━━━━━━━━━━\u001B[0m\u001B[37m\u001B[0m \u001B[1m2s\u001B[0m 3ms/step - accuracy: 0.8644 - loss: 0.3301\n",
      "Epoch 72/100\n",
      "\u001B[1m800/800\u001B[0m \u001B[32m━━━━━━━━━━━━━━━━━━━━\u001B[0m\u001B[37m\u001B[0m \u001B[1m2s\u001B[0m 3ms/step - accuracy: 0.8651 - loss: 0.3296\n",
      "Epoch 73/100\n",
      "\u001B[1m800/800\u001B[0m \u001B[32m━━━━━━━━━━━━━━━━━━━━\u001B[0m\u001B[37m\u001B[0m \u001B[1m2s\u001B[0m 3ms/step - accuracy: 0.8650 - loss: 0.3297\n",
      "Epoch 74/100\n",
      "\u001B[1m800/800\u001B[0m \u001B[32m━━━━━━━━━━━━━━━━━━━━\u001B[0m\u001B[37m\u001B[0m \u001B[1m3s\u001B[0m 3ms/step - accuracy: 0.8643 - loss: 0.3296\n",
      "Epoch 75/100\n",
      "\u001B[1m800/800\u001B[0m \u001B[32m━━━━━━━━━━━━━━━━━━━━\u001B[0m\u001B[37m\u001B[0m \u001B[1m2s\u001B[0m 3ms/step - accuracy: 0.8644 - loss: 0.3293\n",
      "Epoch 76/100\n",
      "\u001B[1m800/800\u001B[0m \u001B[32m━━━━━━━━━━━━━━━━━━━━\u001B[0m\u001B[37m\u001B[0m \u001B[1m2s\u001B[0m 3ms/step - accuracy: 0.8620 - loss: 0.3294\n",
      "Epoch 77/100\n",
      "\u001B[1m800/800\u001B[0m \u001B[32m━━━━━━━━━━━━━━━━━━━━\u001B[0m\u001B[37m\u001B[0m \u001B[1m2s\u001B[0m 3ms/step - accuracy: 0.8631 - loss: 0.3291\n",
      "Epoch 78/100\n",
      "\u001B[1m800/800\u001B[0m \u001B[32m━━━━━━━━━━━━━━━━━━━━\u001B[0m\u001B[37m\u001B[0m \u001B[1m3s\u001B[0m 3ms/step - accuracy: 0.8650 - loss: 0.3294\n",
      "Epoch 79/100\n",
      "\u001B[1m800/800\u001B[0m \u001B[32m━━━━━━━━━━━━━━━━━━━━\u001B[0m\u001B[37m\u001B[0m \u001B[1m3s\u001B[0m 3ms/step - accuracy: 0.8639 - loss: 0.3294\n",
      "Epoch 80/100\n",
      "\u001B[1m800/800\u001B[0m \u001B[32m━━━━━━━━━━━━━━━━━━━━\u001B[0m\u001B[37m\u001B[0m \u001B[1m2s\u001B[0m 3ms/step - accuracy: 0.8645 - loss: 0.3288\n",
      "Epoch 81/100\n",
      "\u001B[1m800/800\u001B[0m \u001B[32m━━━━━━━━━━━━━━━━━━━━\u001B[0m\u001B[37m\u001B[0m \u001B[1m2s\u001B[0m 3ms/step - accuracy: 0.8641 - loss: 0.3293\n",
      "Epoch 82/100\n",
      "\u001B[1m800/800\u001B[0m \u001B[32m━━━━━━━━━━━━━━━━━━━━\u001B[0m\u001B[37m\u001B[0m \u001B[1m2s\u001B[0m 3ms/step - accuracy: 0.8626 - loss: 0.3289\n",
      "Epoch 83/100\n",
      "\u001B[1m800/800\u001B[0m \u001B[32m━━━━━━━━━━━━━━━━━━━━\u001B[0m\u001B[37m\u001B[0m \u001B[1m3s\u001B[0m 3ms/step - accuracy: 0.8629 - loss: 0.3288\n",
      "Epoch 84/100\n",
      "\u001B[1m800/800\u001B[0m \u001B[32m━━━━━━━━━━━━━━━━━━━━\u001B[0m\u001B[37m\u001B[0m \u001B[1m3s\u001B[0m 3ms/step - accuracy: 0.8648 - loss: 0.3287\n",
      "Epoch 85/100\n",
      "\u001B[1m800/800\u001B[0m \u001B[32m━━━━━━━━━━━━━━━━━━━━\u001B[0m\u001B[37m\u001B[0m \u001B[1m3s\u001B[0m 3ms/step - accuracy: 0.8655 - loss: 0.3289\n",
      "Epoch 86/100\n",
      "\u001B[1m800/800\u001B[0m \u001B[32m━━━━━━━━━━━━━━━━━━━━\u001B[0m\u001B[37m\u001B[0m \u001B[1m5s\u001B[0m 3ms/step - accuracy: 0.8652 - loss: 0.3287\n",
      "Epoch 87/100\n",
      "\u001B[1m800/800\u001B[0m \u001B[32m━━━━━━━━━━━━━━━━━━━━\u001B[0m\u001B[37m\u001B[0m \u001B[1m2s\u001B[0m 3ms/step - accuracy: 0.8646 - loss: 0.3288\n",
      "Epoch 88/100\n",
      "\u001B[1m800/800\u001B[0m \u001B[32m━━━━━━━━━━━━━━━━━━━━\u001B[0m\u001B[37m\u001B[0m \u001B[1m3s\u001B[0m 3ms/step - accuracy: 0.8630 - loss: 0.3288\n",
      "Epoch 89/100\n",
      "\u001B[1m800/800\u001B[0m \u001B[32m━━━━━━━━━━━━━━━━━━━━\u001B[0m\u001B[37m\u001B[0m \u001B[1m2s\u001B[0m 3ms/step - accuracy: 0.8634 - loss: 0.3285\n",
      "Epoch 90/100\n",
      "\u001B[1m800/800\u001B[0m \u001B[32m━━━━━━━━━━━━━━━━━━━━\u001B[0m\u001B[37m\u001B[0m \u001B[1m2s\u001B[0m 3ms/step - accuracy: 0.8648 - loss: 0.3286\n",
      "Epoch 91/100\n",
      "\u001B[1m800/800\u001B[0m \u001B[32m━━━━━━━━━━━━━━━━━━━━\u001B[0m\u001B[37m\u001B[0m \u001B[1m2s\u001B[0m 3ms/step - accuracy: 0.8637 - loss: 0.3284\n",
      "Epoch 92/100\n",
      "\u001B[1m800/800\u001B[0m \u001B[32m━━━━━━━━━━━━━━━━━━━━\u001B[0m\u001B[37m\u001B[0m \u001B[1m2s\u001B[0m 3ms/step - accuracy: 0.8637 - loss: 0.3287\n",
      "Epoch 93/100\n",
      "\u001B[1m800/800\u001B[0m \u001B[32m━━━━━━━━━━━━━━━━━━━━\u001B[0m\u001B[37m\u001B[0m \u001B[1m2s\u001B[0m 3ms/step - accuracy: 0.8646 - loss: 0.3289\n",
      "Epoch 94/100\n",
      "\u001B[1m800/800\u001B[0m \u001B[32m━━━━━━━━━━━━━━━━━━━━\u001B[0m\u001B[37m\u001B[0m \u001B[1m3s\u001B[0m 3ms/step - accuracy: 0.8651 - loss: 0.3281\n",
      "Epoch 95/100\n",
      "\u001B[1m800/800\u001B[0m \u001B[32m━━━━━━━━━━━━━━━━━━━━\u001B[0m\u001B[37m\u001B[0m \u001B[1m3s\u001B[0m 3ms/step - accuracy: 0.8660 - loss: 0.3280\n",
      "Epoch 96/100\n",
      "\u001B[1m800/800\u001B[0m \u001B[32m━━━━━━━━━━━━━━━━━━━━\u001B[0m\u001B[37m\u001B[0m \u001B[1m5s\u001B[0m 3ms/step - accuracy: 0.8650 - loss: 0.3281\n",
      "Epoch 97/100\n",
      "\u001B[1m800/800\u001B[0m \u001B[32m━━━━━━━━━━━━━━━━━━━━\u001B[0m\u001B[37m\u001B[0m \u001B[1m2s\u001B[0m 3ms/step - accuracy: 0.8631 - loss: 0.3284\n",
      "Epoch 98/100\n",
      "\u001B[1m800/800\u001B[0m \u001B[32m━━━━━━━━━━━━━━━━━━━━\u001B[0m\u001B[37m\u001B[0m \u001B[1m2s\u001B[0m 3ms/step - accuracy: 0.8618 - loss: 0.3282\n",
      "Epoch 99/100\n",
      "\u001B[1m800/800\u001B[0m \u001B[32m━━━━━━━━━━━━━━━━━━━━\u001B[0m\u001B[37m\u001B[0m \u001B[1m2s\u001B[0m 3ms/step - accuracy: 0.8631 - loss: 0.3282\n",
      "Epoch 100/100\n",
      "\u001B[1m800/800\u001B[0m \u001B[32m━━━━━━━━━━━━━━━━━━━━\u001B[0m\u001B[37m\u001B[0m \u001B[1m2s\u001B[0m 3ms/step - accuracy: 0.8641 - loss: 0.3282\n"
     ]
    }
   ],
   "execution_count": 20
  },
  {
   "metadata": {
    "ExecuteTime": {
     "end_time": "2025-10-16T19:24:11.231136Z",
     "start_time": "2025-10-16T19:24:11.217872Z"
    }
   },
   "cell_type": "code",
   "source": "print(\"Best: %f using %s\" % (grid_result.best_score_,grid_result.best_params_))",
   "id": "c152760222ec053",
   "outputs": [
    {
     "name": "stdout",
     "output_type": "stream",
     "text": [
      "Best: 0.856874 using {'epochs': 100, 'model__layers': 1, 'model__neurons': 16}\n"
     ]
    }
   ],
   "execution_count": 21
  }
 ],
 "metadata": {
  "kernelspec": {
   "display_name": "Python 3",
   "language": "python",
   "name": "python3"
  },
  "language_info": {
   "codemirror_mode": {
    "name": "ipython",
    "version": 2
   },
   "file_extension": ".py",
   "mimetype": "text/x-python",
   "name": "python",
   "nbconvert_exporter": "python",
   "pygments_lexer": "ipython2",
   "version": "2.7.6"
  }
 },
 "nbformat": 4,
 "nbformat_minor": 5
}
