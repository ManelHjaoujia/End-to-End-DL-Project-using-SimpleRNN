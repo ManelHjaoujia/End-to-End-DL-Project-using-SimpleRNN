{
 "cells": [
  {
   "cell_type": "code",
   "metadata": {
    "ExecuteTime": {
     "end_time": "2025-10-18T22:11:51.383439Z",
     "start_time": "2025-10-18T22:11:45.796200Z"
    }
   },
   "source": [
    "# Step 1: Import Libraries and Load the Model\n",
    "import numpy as np\n",
    "import tensorflow as tf\n",
    "from tensorflow.keras.datasets import imdb\n",
    "from tensorflow.keras.preprocessing import sequence\n",
    "from tensorflow.keras.models import load_model"
   ],
   "outputs": [],
   "execution_count": 1
  },
  {
   "cell_type": "code",
   "metadata": {
    "ExecuteTime": {
     "end_time": "2025-10-18T22:12:18.078016Z",
     "start_time": "2025-10-18T22:12:17.992098Z"
    }
   },
   "source": [
    "\n",
    "# Load the IMDB dataset word index\n",
    "word_index = imdb.get_word_index()\n",
    "reverse_word_index = {value: key for key, value in word_index.items()}"
   ],
   "outputs": [],
   "execution_count": 2
  },
  {
   "cell_type": "code",
   "metadata": {
    "ExecuteTime": {
     "end_time": "2025-10-18T22:12:22.151646Z",
     "start_time": "2025-10-18T22:12:21.918829Z"
    }
   },
   "source": [
    "# Load the pre-trained model with ReLU activation\n",
    "model = load_model('simple_rnn_imdb.h5')\n",
    "model.summary()"
   ],
   "outputs": [
    {
     "name": "stderr",
     "output_type": "stream",
     "text": [
      "WARNING:absl:Compiled the loaded model, but the compiled metrics have yet to be built. `model.compile_metrics` will be empty until you train or evaluate the model.\n"
     ]
    },
    {
     "data": {
      "text/plain": [
       "\u001B[1mModel: \"sequential\"\u001B[0m\n"
      ],
      "text/html": [
       "<pre style=\"white-space:pre;overflow-x:auto;line-height:normal;font-family:Menlo,'DejaVu Sans Mono',consolas,'Courier New',monospace\"><span style=\"font-weight: bold\">Model: \"sequential\"</span>\n",
       "</pre>\n"
      ]
     },
     "metadata": {},
     "output_type": "display_data"
    },
    {
     "data": {
      "text/plain": [
       "┏━━━━━━━━━━━━━━━━━━━━━━━━━━━━━━━━━┳━━━━━━━━━━━━━━━━━━━━━━━━┳━━━━━━━━━━━━━━━┓\n",
       "┃\u001B[1m \u001B[0m\u001B[1mLayer (type)                   \u001B[0m\u001B[1m \u001B[0m┃\u001B[1m \u001B[0m\u001B[1mOutput Shape          \u001B[0m\u001B[1m \u001B[0m┃\u001B[1m \u001B[0m\u001B[1m      Param #\u001B[0m\u001B[1m \u001B[0m┃\n",
       "┡━━━━━━━━━━━━━━━━━━━━━━━━━━━━━━━━━╇━━━━━━━━━━━━━━━━━━━━━━━━╇━━━━━━━━━━━━━━━┩\n",
       "│ embedding (\u001B[38;5;33mEmbedding\u001B[0m)           │ (\u001B[38;5;34m32\u001B[0m, \u001B[38;5;34m500\u001B[0m, \u001B[38;5;34m128\u001B[0m)         │     \u001B[38;5;34m1,280,000\u001B[0m │\n",
       "├─────────────────────────────────┼────────────────────────┼───────────────┤\n",
       "│ simple_rnn (\u001B[38;5;33mSimpleRNN\u001B[0m)          │ (\u001B[38;5;34m32\u001B[0m, \u001B[38;5;34m128\u001B[0m)              │        \u001B[38;5;34m32,896\u001B[0m │\n",
       "├─────────────────────────────────┼────────────────────────┼───────────────┤\n",
       "│ dense (\u001B[38;5;33mDense\u001B[0m)                   │ (\u001B[38;5;34m32\u001B[0m, \u001B[38;5;34m1\u001B[0m)                │           \u001B[38;5;34m129\u001B[0m │\n",
       "└─────────────────────────────────┴────────────────────────┴───────────────┘\n"
      ],
      "text/html": [
       "<pre style=\"white-space:pre;overflow-x:auto;line-height:normal;font-family:Menlo,'DejaVu Sans Mono',consolas,'Courier New',monospace\">┏━━━━━━━━━━━━━━━━━━━━━━━━━━━━━━━━━┳━━━━━━━━━━━━━━━━━━━━━━━━┳━━━━━━━━━━━━━━━┓\n",
       "┃<span style=\"font-weight: bold\"> Layer (type)                    </span>┃<span style=\"font-weight: bold\"> Output Shape           </span>┃<span style=\"font-weight: bold\">       Param # </span>┃\n",
       "┡━━━━━━━━━━━━━━━━━━━━━━━━━━━━━━━━━╇━━━━━━━━━━━━━━━━━━━━━━━━╇━━━━━━━━━━━━━━━┩\n",
       "│ embedding (<span style=\"color: #0087ff; text-decoration-color: #0087ff\">Embedding</span>)           │ (<span style=\"color: #00af00; text-decoration-color: #00af00\">32</span>, <span style=\"color: #00af00; text-decoration-color: #00af00\">500</span>, <span style=\"color: #00af00; text-decoration-color: #00af00\">128</span>)         │     <span style=\"color: #00af00; text-decoration-color: #00af00\">1,280,000</span> │\n",
       "├─────────────────────────────────┼────────────────────────┼───────────────┤\n",
       "│ simple_rnn (<span style=\"color: #0087ff; text-decoration-color: #0087ff\">SimpleRNN</span>)          │ (<span style=\"color: #00af00; text-decoration-color: #00af00\">32</span>, <span style=\"color: #00af00; text-decoration-color: #00af00\">128</span>)              │        <span style=\"color: #00af00; text-decoration-color: #00af00\">32,896</span> │\n",
       "├─────────────────────────────────┼────────────────────────┼───────────────┤\n",
       "│ dense (<span style=\"color: #0087ff; text-decoration-color: #0087ff\">Dense</span>)                   │ (<span style=\"color: #00af00; text-decoration-color: #00af00\">32</span>, <span style=\"color: #00af00; text-decoration-color: #00af00\">1</span>)                │           <span style=\"color: #00af00; text-decoration-color: #00af00\">129</span> │\n",
       "└─────────────────────────────────┴────────────────────────┴───────────────┘\n",
       "</pre>\n"
      ]
     },
     "metadata": {},
     "output_type": "display_data"
    },
    {
     "data": {
      "text/plain": [
       "\u001B[1m Total params: \u001B[0m\u001B[38;5;34m1,313,027\u001B[0m (5.01 MB)\n"
      ],
      "text/html": [
       "<pre style=\"white-space:pre;overflow-x:auto;line-height:normal;font-family:Menlo,'DejaVu Sans Mono',consolas,'Courier New',monospace\"><span style=\"font-weight: bold\"> Total params: </span><span style=\"color: #00af00; text-decoration-color: #00af00\">1,313,027</span> (5.01 MB)\n",
       "</pre>\n"
      ]
     },
     "metadata": {},
     "output_type": "display_data"
    },
    {
     "data": {
      "text/plain": [
       "\u001B[1m Trainable params: \u001B[0m\u001B[38;5;34m1,313,025\u001B[0m (5.01 MB)\n"
      ],
      "text/html": [
       "<pre style=\"white-space:pre;overflow-x:auto;line-height:normal;font-family:Menlo,'DejaVu Sans Mono',consolas,'Courier New',monospace\"><span style=\"font-weight: bold\"> Trainable params: </span><span style=\"color: #00af00; text-decoration-color: #00af00\">1,313,025</span> (5.01 MB)\n",
       "</pre>\n"
      ]
     },
     "metadata": {},
     "output_type": "display_data"
    },
    {
     "data": {
      "text/plain": [
       "\u001B[1m Non-trainable params: \u001B[0m\u001B[38;5;34m0\u001B[0m (0.00 B)\n"
      ],
      "text/html": [
       "<pre style=\"white-space:pre;overflow-x:auto;line-height:normal;font-family:Menlo,'DejaVu Sans Mono',consolas,'Courier New',monospace\"><span style=\"font-weight: bold\"> Non-trainable params: </span><span style=\"color: #00af00; text-decoration-color: #00af00\">0</span> (0.00 B)\n",
       "</pre>\n"
      ]
     },
     "metadata": {},
     "output_type": "display_data"
    },
    {
     "data": {
      "text/plain": [
       "\u001B[1m Optimizer params: \u001B[0m\u001B[38;5;34m2\u001B[0m (12.00 B)\n"
      ],
      "text/html": [
       "<pre style=\"white-space:pre;overflow-x:auto;line-height:normal;font-family:Menlo,'DejaVu Sans Mono',consolas,'Courier New',monospace\"><span style=\"font-weight: bold\"> Optimizer params: </span><span style=\"color: #00af00; text-decoration-color: #00af00\">2</span> (12.00 B)\n",
       "</pre>\n"
      ]
     },
     "metadata": {},
     "output_type": "display_data"
    }
   ],
   "execution_count": 3
  },
  {
   "cell_type": "code",
   "metadata": {
    "ExecuteTime": {
     "end_time": "2025-10-18T22:12:43.456615Z",
     "start_time": "2025-10-18T22:12:43.405154Z"
    }
   },
   "source": [
    "model.get_weights()"
   ],
   "outputs": [
    {
     "data": {
      "text/plain": [
       "[array([[ 0.38750705, -0.43531784,  0.35928625, ..., -0.06556013,\n",
       "          0.31574243,  0.3297731 ],\n",
       "        [-0.02750909,  0.00426485,  0.04262282, ..., -0.04388068,\n",
       "          0.01624334, -0.03260365],\n",
       "        [-0.08243194,  0.10857261, -0.13010539, ...,  0.03684063,\n",
       "         -0.03514935, -0.10089895],\n",
       "        ...,\n",
       "        [ 0.02146068,  0.08936758,  0.01225976, ...,  0.02089044,\n",
       "          0.03995208, -0.04425736],\n",
       "        [-0.04443229,  0.09982696, -0.14301895, ...,  0.02225784,\n",
       "         -0.10100338, -0.13219686],\n",
       "        [ 0.08975922, -0.09680954,  0.08280929, ..., -0.01979683,\n",
       "          0.07043938,  0.04264335]], shape=(10000, 128), dtype=float32),\n",
       " array([[-0.12607254,  0.141399  , -0.05408236, ...,  0.0233114 ,\n",
       "         -0.04480662,  0.12039572],\n",
       "        [ 0.12598278,  0.03695317,  0.04933394, ..., -0.05900281,\n",
       "          0.07365989,  0.02986145],\n",
       "        [-0.10916473, -0.01118969, -0.03045527, ...,  0.06150112,\n",
       "          0.00966863,  0.02274101],\n",
       "        ...,\n",
       "        [-0.10000858,  0.02146449, -0.01984945, ...,  0.17502937,\n",
       "         -0.11020597,  0.06857796],\n",
       "        [-0.10277083, -0.00555581, -0.1312947 , ...,  0.01773593,\n",
       "         -0.1478081 ,  0.08725987],\n",
       "        [ 0.03598407, -0.12692899, -0.14410526, ..., -0.11172718,\n",
       "         -0.08727457,  0.06315303]], shape=(128, 128), dtype=float32),\n",
       " array([[-0.04752027, -0.11026519, -0.16384655, ...,  0.01120759,\n",
       "         -0.0557265 ,  0.09687656],\n",
       "        [-0.06688322, -0.00792834,  0.01483749, ...,  0.09314899,\n",
       "         -0.04269064,  0.01062343],\n",
       "        [ 0.12660003, -0.04503635, -0.05621748, ..., -0.01965819,\n",
       "         -0.08405105, -0.20696816],\n",
       "        ...,\n",
       "        [ 0.06627276,  0.08843522, -0.06065144, ..., -0.24297708,\n",
       "          0.05544967, -0.0052663 ],\n",
       "        [ 0.06143588,  0.04480168,  0.05510216, ..., -0.0642368 ,\n",
       "         -0.10285527,  0.09686884],\n",
       "        [-0.04949152, -0.06803261,  0.0162071 , ..., -0.15123369,\n",
       "          0.03620367, -0.14030385]], shape=(128, 128), dtype=float32),\n",
       " array([ 0.01978248,  0.00461032, -0.02392112,  0.01360813, -0.02844627,\n",
       "        -0.02739305, -0.02746768,  0.00815295, -0.00874221, -0.00083168,\n",
       "        -0.02961223, -0.01055029,  0.00203203, -0.04107781, -0.02449792,\n",
       "         0.01003018, -0.02547195, -0.04868776,  0.0130673 ,  0.02279515,\n",
       "        -0.03196399, -0.01253728, -0.01065468,  0.00207928,  0.01382164,\n",
       "        -0.01143357,  0.00078249, -0.02757712, -0.01722669,  0.00369638,\n",
       "         0.00197153, -0.02742814, -0.02624733,  0.04131308, -0.02927054,\n",
       "        -0.01727358,  0.0044676 ,  0.00387288, -0.00318666, -0.01729495,\n",
       "         0.0103439 , -0.00462132,  0.03268169, -0.007592  , -0.02523229,\n",
       "         0.02717176, -0.01093295, -0.01602255, -0.02556713,  0.10985543,\n",
       "        -0.00613421, -0.01230717, -0.02644193, -0.02405835, -0.04188209,\n",
       "        -0.04973181, -0.0531492 , -0.00981889, -0.02983992, -0.04146628,\n",
       "        -0.00826021, -0.03651329, -0.03249822, -0.03136613, -0.00225318,\n",
       "         0.01610218,  0.01469074, -0.00266911,  0.03379484,  0.01371747,\n",
       "         0.01082295, -0.02868103,  0.03184688,  0.0032454 , -0.01582833,\n",
       "        -0.04969961, -0.01403348, -0.02043499, -0.03478137, -0.01197163,\n",
       "        -0.03249723,  0.01543737, -0.00758342,  0.00118823, -0.03183115,\n",
       "         0.09209704, -0.00319889,  0.00737621, -0.00416482,  0.00511328,\n",
       "        -0.01008937,  0.00752009, -0.04889324,  0.02793554,  0.00066295,\n",
       "         0.00152667, -0.02511033, -0.00055207, -0.01096065, -0.02152887,\n",
       "         0.00235396, -0.01209462,  0.01841667, -0.02091878, -0.00335736,\n",
       "        -0.01299846, -0.01194197, -0.0080017 ,  0.01371844, -0.01101435,\n",
       "        -0.02430024, -0.02138968, -0.03783858,  0.01579835, -0.02707904,\n",
       "        -0.00446196, -0.00617158, -0.05863839,  0.00930787, -0.02288834,\n",
       "        -0.02872771, -0.00597368,  0.03887802, -0.01771235,  0.01241307,\n",
       "        -0.0097729 , -0.05520279, -0.01104101], dtype=float32),\n",
       " array([[-0.03066344],\n",
       "        [-0.21505569],\n",
       "        [-0.03045754],\n",
       "        [-0.1271273 ],\n",
       "        [-0.07590432],\n",
       "        [-0.04740135],\n",
       "        [-0.06273024],\n",
       "        [-0.21334258],\n",
       "        [-0.29168233],\n",
       "        [-0.5386768 ],\n",
       "        [ 0.03599327],\n",
       "        [-0.04152427],\n",
       "        [-0.05168522],\n",
       "        [-0.01416372],\n",
       "        [ 0.11181238],\n",
       "        [-0.18449913],\n",
       "        [-0.11496753],\n",
       "        [ 0.09335046],\n",
       "        [-0.11128085],\n",
       "        [ 0.04543465],\n",
       "        [ 0.14584981],\n",
       "        [-0.09231922],\n",
       "        [ 0.2093843 ],\n",
       "        [ 0.15025558],\n",
       "        [-0.06784727],\n",
       "        [-0.02232075],\n",
       "        [-0.18818569],\n",
       "        [-0.03843914],\n",
       "        [-0.17094578],\n",
       "        [-0.4000794 ],\n",
       "        [-0.46295428],\n",
       "        [-0.01439497],\n",
       "        [ 0.13081008],\n",
       "        [ 0.05600986],\n",
       "        [ 0.00694814],\n",
       "        [ 0.18281136],\n",
       "        [ 0.08147919],\n",
       "        [-0.10271711],\n",
       "        [-0.03117163],\n",
       "        [-0.03467173],\n",
       "        [ 0.4499779 ],\n",
       "        [-0.11779057],\n",
       "        [-0.7315482 ],\n",
       "        [ 0.19483443],\n",
       "        [ 0.00502716],\n",
       "        [-0.20431767],\n",
       "        [ 0.15439594],\n",
       "        [-0.10846143],\n",
       "        [ 0.2180072 ],\n",
       "        [ 0.16372633],\n",
       "        [ 0.13983999],\n",
       "        [ 0.08730119],\n",
       "        [ 0.06750442],\n",
       "        [ 0.17560178],\n",
       "        [-0.02785954],\n",
       "        [-0.12302282],\n",
       "        [-0.51823413],\n",
       "        [ 0.34169683],\n",
       "        [ 0.17279355],\n",
       "        [ 0.06417828],\n",
       "        [ 0.04660542],\n",
       "        [ 0.03023379],\n",
       "        [ 0.09342247],\n",
       "        [-0.00580228],\n",
       "        [ 0.01583946],\n",
       "        [-0.5476354 ],\n",
       "        [-0.19474371],\n",
       "        [ 0.06765932],\n",
       "        [-0.7250789 ],\n",
       "        [-0.04319272],\n",
       "        [-0.32455015],\n",
       "        [-0.15158445],\n",
       "        [ 0.00430086],\n",
       "        [-0.16213223],\n",
       "        [-0.15322873],\n",
       "        [ 0.02119383],\n",
       "        [-0.08493011],\n",
       "        [ 0.04489601],\n",
       "        [-0.23774914],\n",
       "        [-0.05267719],\n",
       "        [-0.72863984],\n",
       "        [-0.17971997],\n",
       "        [-0.00885293],\n",
       "        [ 0.05953385],\n",
       "        [-0.22909832],\n",
       "        [ 0.42478126],\n",
       "        [ 0.21383907],\n",
       "        [-0.16959788],\n",
       "        [ 0.19822489],\n",
       "        [ 0.00872654],\n",
       "        [ 0.01561876],\n",
       "        [ 0.1014203 ],\n",
       "        [-0.19759806],\n",
       "        [-0.13229778],\n",
       "        [ 0.24707304],\n",
       "        [-0.22984597],\n",
       "        [ 0.05660818],\n",
       "        [ 0.19393222],\n",
       "        [-0.23448972],\n",
       "        [ 0.17654452],\n",
       "        [-0.01832258],\n",
       "        [ 0.00358375],\n",
       "        [ 0.00100399],\n",
       "        [ 0.11154491],\n",
       "        [ 0.10567696],\n",
       "        [ 0.06332406],\n",
       "        [-0.25124115],\n",
       "        [ 0.04912562],\n",
       "        [-0.02766949],\n",
       "        [-0.05662715],\n",
       "        [-0.07534137],\n",
       "        [-0.02066829],\n",
       "        [ 0.25743702],\n",
       "        [-0.06038189],\n",
       "        [-0.42906556],\n",
       "        [ 0.08239619],\n",
       "        [ 0.15242213],\n",
       "        [-0.05500804],\n",
       "        [-0.36292264],\n",
       "        [ 0.17248856],\n",
       "        [-0.18973622],\n",
       "        [ 0.21927288],\n",
       "        [ 0.06327669],\n",
       "        [-0.06081806],\n",
       "        [ 0.05568894],\n",
       "        [ 0.02447057],\n",
       "        [ 0.01490767],\n",
       "        [-0.16494484]], dtype=float32),\n",
       " array([0.42196724], dtype=float32)]"
      ]
     },
     "execution_count": 4,
     "metadata": {},
     "output_type": "execute_result"
    }
   ],
   "execution_count": 4
  },
  {
   "cell_type": "code",
   "metadata": {
    "ExecuteTime": {
     "end_time": "2025-10-18T22:12:49.240303Z",
     "start_time": "2025-10-18T22:12:49.228018Z"
    }
   },
   "source": [
    "# Step 2: Helper Functions\n",
    "# Function to decode reviews\n",
    "def decode_review(encoded_review):\n",
    "    return ' '.join([reverse_word_index.get(i - 3, '?') for i in encoded_review])\n",
    "\n",
    "# Function to preprocess user input\n",
    "def preprocess_text(text):\n",
    "    words = text.lower().split()\n",
    "    encoded_review = [word_index.get(word, 2) + 3 for word in words]\n",
    "    padded_review = sequence.pad_sequences([encoded_review], maxlen=500)\n",
    "    return padded_review"
   ],
   "outputs": [],
   "execution_count": 5
  },
  {
   "cell_type": "code",
   "metadata": {
    "ExecuteTime": {
     "end_time": "2025-10-18T22:12:54.184486Z",
     "start_time": "2025-10-18T22:12:54.173763Z"
    }
   },
   "source": [
    "### Prediction  function\n",
    "\n",
    "def predict_sentiment(review):\n",
    "    preprocessed_input=preprocess_text(review)\n",
    "\n",
    "    prediction=model.predict(preprocessed_input)\n",
    "\n",
    "    sentiment = 'Positive' if prediction[0][0] > 0.5 else 'Negative'\n",
    "    \n",
    "    return sentiment, prediction[0][0]\n",
    "\n"
   ],
   "outputs": [],
   "execution_count": 6
  },
  {
   "cell_type": "code",
   "metadata": {
    "ExecuteTime": {
     "end_time": "2025-10-18T22:12:57.135879Z",
     "start_time": "2025-10-18T22:12:56.735116Z"
    }
   },
   "source": [
    "# Step 4: User Input and Prediction\n",
    "# Example review for prediction\n",
    "example_review = \"This movie was fantastic! The acting was great and the plot was thrilling.\"\n",
    "\n",
    "sentiment,score=predict_sentiment(example_review)\n",
    "\n",
    "print(f'Review: {example_review}')\n",
    "print(f'Sentiment: {sentiment}')\n",
    "print(f'Prediction Score: {score}')"
   ],
   "outputs": [
    {
     "name": "stdout",
     "output_type": "stream",
     "text": [
      "\u001B[1m1/1\u001B[0m \u001B[32m━━━━━━━━━━━━━━━━━━━━\u001B[0m\u001B[37m\u001B[0m \u001B[1m0s\u001B[0m 281ms/step\n",
      "Review: This movie was fantastic! The acting was great and the plot was thrilling.\n",
      "Sentiment: Positive\n",
      "Prediction Score: 0.8140468597412109\n"
     ]
    }
   ],
   "execution_count": 7
  },
  {
   "cell_type": "code",
   "execution_count": null,
   "metadata": {},
   "outputs": [],
   "source": []
  },
  {
   "cell_type": "code",
   "execution_count": null,
   "metadata": {},
   "outputs": [],
   "source": []
  },
  {
   "cell_type": "code",
   "execution_count": null,
   "metadata": {},
   "outputs": [],
   "source": []
  },
  {
   "cell_type": "code",
   "execution_count": null,
   "metadata": {},
   "outputs": [],
   "source": []
  }
 ],
 "metadata": {
  "kernelspec": {
   "display_name": "Python 3",
   "language": "python",
   "name": "python3"
  },
  "language_info": {
   "codemirror_mode": {
    "name": "ipython",
    "version": 3
   },
   "file_extension": ".py",
   "mimetype": "text/x-python",
   "name": "python",
   "nbconvert_exporter": "python",
   "pygments_lexer": "ipython3",
   "version": "3.11.0"
  }
 },
 "nbformat": 4,
 "nbformat_minor": 2
}
